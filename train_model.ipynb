{
 "cells": [
  {
   "cell_type": "code",
   "execution_count": 1,
   "metadata": {},
   "outputs": [],
   "source": [
    "import numpy as np\n",
    "import pandas as pd\n",
    "import os\n",
    "import ast\n",
    "from sklearn.feature_extraction.text import CountVectorizer\n",
    "from sklearn.metrics.pairwise import cosine_similarity\n",
    "import pickle\n",
    "import kagglehub"
   ]
  },
  {
   "cell_type": "code",
   "execution_count": 2,
   "metadata": {},
   "outputs": [],
   "source": [
    "for root, _, files in os.walk('/kaggle/input'):\n",
    "    for file in files:\n",
    "        print(os.path.join(root, file))"
   ]
  },
  {
   "cell_type": "code",
   "execution_count": 3,
   "metadata": {},
   "outputs": [
    {
     "name": "stdout",
     "output_type": "stream",
     "text": [
      "Warning: Looks like you're using an outdated `kagglehub` version, please consider updating (latest version: 0.3.5)\n",
      "Dataset path: C:\\Users\\koush\\.cache\\kagglehub\\datasets\\tmdb\\tmdb-movie-metadata\\versions\\2\n"
     ]
    }
   ],
   "source": [
    "data_path = kagglehub.dataset_download(\"tmdb/tmdb-movie-metadata\")\n",
    "print(\"Dataset path:\", data_path)"
   ]
  },
  {
   "cell_type": "code",
   "execution_count": 4,
   "metadata": {},
   "outputs": [],
   "source": [
    "movies_df = pd.read_csv('C:/Users/koush/.cache/kagglehub/datasets/tmdb/tmdb-movie-metadata/versions/2/tmdb_5000_movies.csv')\n",
    "credits_df = pd.read_csv('C:/Users/koush/.cache/kagglehub/datasets/tmdb/tmdb-movie-metadata/versions/2/tmdb_5000_credits.csv')"
   ]
  },
  {
   "cell_type": "code",
   "execution_count": 5,
   "metadata": {},
   "outputs": [],
   "source": [
    "movies_df = movies_df.merge(credits_df, on='title')\n",
    "movies_df = movies_df[['movie_id', 'title', 'overview', 'genres', 'keywords', 'cast', 'crew']]\n",
    "movies_df.dropna(inplace=True)"
   ]
  },
  {
   "cell_type": "code",
   "execution_count": 6,
   "metadata": {},
   "outputs": [],
   "source": [
    "def extract_names(text):\n",
    "    return [item['name'] for item in ast.literal_eval(text)]\n",
    "\n",
    "def extract_top_names(text, limit=3):\n",
    "    return [item['name'] for item in ast.literal_eval(text)[:limit]]\n",
    "\n",
    "def extract_director(text):\n",
    "    return [item['name'] for item in ast.literal_eval(text) if item['job'] == 'Director']\n",
    "\n",
    "def sanitize_list(items):\n",
    "    return [item.replace(\" \", \"\") for item in items]"
   ]
  },
  {
   "cell_type": "code",
   "execution_count": 7,
   "metadata": {},
   "outputs": [],
   "source": [
    "movies_df['genres'] = movies_df['genres'].apply(extract_names)\n",
    "movies_df['keywords'] = movies_df['keywords'].apply(extract_names)\n",
    "movies_df['cast'] = movies_df['cast'].apply(extract_top_names)\n",
    "movies_df['crew'] = movies_df['crew'].apply(extract_director)"
   ]
  },
  {
   "cell_type": "code",
   "execution_count": 8,
   "metadata": {},
   "outputs": [],
   "source": [
    "movies_df['cast'] = movies_df['cast'].apply(sanitize_list)\n",
    "movies_df['crew'] = movies_df['crew'].apply(sanitize_list)\n",
    "movies_df['genres'] = movies_df['genres'].apply(sanitize_list)\n",
    "movies_df['keywords'] = movies_df['keywords'].apply(sanitize_list)\n",
    "movies_df['overview'] = movies_df['overview'].apply(lambda x: x.split())"
   ]
  },
  {
   "cell_type": "code",
   "execution_count": 9,
   "metadata": {},
   "outputs": [],
   "source": [
    "movies_df['tags'] = movies_df['overview'] + movies_df['genres'] + movies_df['keywords'] + movies_df['cast'] + movies_df['crew']\n",
    "movies_df = movies_df[['movie_id', 'title', 'tags']]\n",
    "movies_df['tags'] = movies_df['tags'].apply(lambda x: \" \".join(x))"
   ]
  },
  {
   "cell_type": "code",
   "execution_count": 10,
   "metadata": {},
   "outputs": [],
   "source": [
    "vectorizer = CountVectorizer(max_features=5000, stop_words='english')\n",
    "vectorized_data = vectorizer.fit_transform(movies_df['tags']).toarray()"
   ]
  },
  {
   "cell_type": "code",
   "execution_count": 11,
   "metadata": {},
   "outputs": [],
   "source": [
    "similarity_matrix = cosine_similarity(vectorized_data)"
   ]
  },
  {
   "cell_type": "code",
   "execution_count": 14,
   "metadata": {},
   "outputs": [],
   "source": [
    "def recommend_movies(movie_title):\n",
    "    movie_idx = movies_df[movies_df['title'] == movie_title].index[0]\n",
    "    distances = sorted(list(enumerate(similarity_matrix[movie_idx])), reverse=True, key=lambda x: x[1])\n",
    "    for idx in distances[1:4]:\n",
    "        print(movies_df.iloc[idx[0]].title)"
   ]
  },
  {
   "cell_type": "code",
   "execution_count": 15,
   "metadata": {},
   "outputs": [
    {
     "name": "stdout",
     "output_type": "stream",
     "text": [
      "Titan A.E.\n",
      "Small Soldiers\n",
      "Ender's Game\n"
     ]
    }
   ],
   "source": [
    "recommend_movies('Avatar')"
   ]
  },
  {
   "cell_type": "code",
   "execution_count": 16,
   "metadata": {},
   "outputs": [],
   "source": [
    "pickle.dump(movies_df, open('movie_list.pkl', 'wb'))\n",
    "pickle.dump(similarity_matrix, open('similarity.pkl', 'wb'))"
   ]
  }
 ],
 "metadata": {
  "kernelspec": {
   "display_name": "base",
   "language": "python",
   "name": "python3"
  },
  "language_info": {
   "codemirror_mode": {
    "name": "ipython",
    "version": 3
   },
   "file_extension": ".py",
   "mimetype": "text/x-python",
   "name": "python",
   "nbconvert_exporter": "python",
   "pygments_lexer": "ipython3",
   "version": "3.11.5"
  }
 },
 "nbformat": 4,
 "nbformat_minor": 2
}
